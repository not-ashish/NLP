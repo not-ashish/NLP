{
  "nbformat": 4,
  "nbformat_minor": 0,
  "metadata": {
    "colab": {
      "name": "Ashish_ASHOK_IHLT_LAB4",
      "provenance": [],
      "collapsed_sections": []
    },
    "kernelspec": {
      "name": "python3",
      "display_name": "Python 3"
    },
    "language_info": {
      "name": "python"
    }
  },
  "cells": [
    {
      "cell_type": "code",
      "metadata": {
        "colab": {
          "base_uri": "https://localhost:8080/"
        },
        "id": "O1ltzar0HoNx",
        "outputId": "d2a5606f-34af-4b88-d665-c21330a1b4c1"
      },
      "source": [
        "import nltk\n",
        "nltk.download('treebank')"
      ],
      "execution_count": 1,
      "outputs": [
        {
          "output_type": "stream",
          "name": "stdout",
          "text": [
            "[nltk_data] Downloading package treebank to /root/nltk_data...\n",
            "[nltk_data]   Unzipping corpora/treebank.zip.\n"
          ]
        },
        {
          "output_type": "execute_result",
          "data": {
            "text/plain": [
              "True"
            ]
          },
          "metadata": {},
          "execution_count": 1
        }
      ]
    },
    {
      "cell_type": "code",
      "metadata": {
        "colab": {
          "base_uri": "https://localhost:8080/"
        },
        "id": "wlbs9pW7HxBA",
        "outputId": "a43b880d-0837-40be-988e-ac8bea321d15"
      },
      "source": [
        "!pip install python-crfsuite\n",
        "!pip install sklearn-pycrfsuite"
      ],
      "execution_count": 1,
      "outputs": [
        {
          "output_type": "stream",
          "name": "stdout",
          "text": [
            "Requirement already satisfied: python-crfsuite in /usr/local/lib/python3.7/dist-packages (0.9.7)\n",
            "Collecting sklearn-pycrfsuite\n",
            "  Downloading sklearn-pycrfsuite-0.4.0.tar.gz (24 kB)\n",
            "Requirement already satisfied: tqdm>=2.0 in /usr/local/lib/python3.7/dist-packages (from sklearn-pycrfsuite) (4.62.3)\n",
            "Requirement already satisfied: six in /usr/local/lib/python3.7/dist-packages (from sklearn-pycrfsuite) (1.15.0)\n",
            "Requirement already satisfied: tabulate in /usr/local/lib/python3.7/dist-packages (from sklearn-pycrfsuite) (0.8.9)\n",
            "Collecting python-crfsuite-extension\n",
            "  Downloading python-crfsuite-extension-0.9.7.tar.gz (485 kB)\n",
            "\u001b[K     |████████████████████████████████| 485 kB 17.2 MB/s \n",
            "\u001b[?25hBuilding wheels for collected packages: sklearn-pycrfsuite, python-crfsuite-extension\n",
            "  Building wheel for sklearn-pycrfsuite (setup.py) ... \u001b[?25l\u001b[?25hdone\n",
            "  Created wheel for sklearn-pycrfsuite: filename=sklearn_pycrfsuite-0.4.0-py2.py3-none-any.whl size=11001 sha256=70ec233b12e361fd8478e53d1b4547dd22323f6a25f3ef0e1cc0bdfbc427db89\n",
            "  Stored in directory: /root/.cache/pip/wheels/44/50/b1/295e502c6652f551dc99bfdb394a3fe2fcb47668e333391f38\n",
            "  Building wheel for python-crfsuite-extension (setup.py) ... \u001b[?25l\u001b[?25hdone\n",
            "  Created wheel for python-crfsuite-extension: filename=python_crfsuite_extension-0.9.7-cp37-cp37m-linux_x86_64.whl size=777663 sha256=d3c69876555a36fdc98f84a7e0bc58b8d9b81689d2912526bb2d859ff3d8e2cb\n",
            "  Stored in directory: /root/.cache/pip/wheels/70/d7/bf/369f4d179407dbf3840132e4135fa61f0bf711f4496d0bf750\n",
            "Successfully built sklearn-pycrfsuite python-crfsuite-extension\n",
            "Installing collected packages: python-crfsuite-extension, sklearn-pycrfsuite\n",
            "Successfully installed python-crfsuite-extension-0.9.7 sklearn-pycrfsuite-0.4.0\n"
          ]
        }
      ]
    },
    {
      "cell_type": "code",
      "metadata": {
        "colab": {
          "base_uri": "https://localhost:8080/"
        },
        "id": "B-3g8141gGvy",
        "outputId": "9870de3a-b204-4afd-def3-314b5f0f5934"
      },
      "source": [
        "import nltk\n",
        "\n",
        "#0-500\n",
        "train_data=[]\n",
        "HMM_acc=[]\n",
        "TnT_acc=[]\n",
        "PER_acc=[]\n",
        "CRF_acc=[]\n",
        "test_data = nltk.corpus.treebank.tagged_sents()[3001:]\n",
        "trainer = nltk.tag.hmm.HiddenMarkovModelTrainer()\n",
        " \n",
        "print(\"\\nTraining HMM:----------------------------\")\n",
        "for i in range(500,3001,500):\n",
        " train_data=(nltk.corpus.treebank.tagged_sents()[:i])\n",
        "\n",
        "#HMM calculation\n",
        " HMM = trainer.train_supervised(train_data)\n",
        " print('\\naccuracy for %d sentences: ' %i +str(round(HMM.evaluate(test_data), 3)))\n",
        " HMM_acc.append(round(HMM.evaluate(test_data),3))\n",
        " print(HMM.tag(['the', 'men', 'attended', 'to', 'the', 'meetings']))\n",
        "\n",
        "print(\"\\nTraining TnT:----------------------------\")\n",
        "for i in range(500,3001,500):\n",
        " train_data=(nltk.corpus.treebank.tagged_sents()[:i])\n",
        "\n",
        "#TnT calculation\n",
        " TnT = nltk.tag.tnt.TnT()\n",
        " TnT.train(train_data)\n",
        " print('\\naccuracy for %d sentences: ' %i +str(round(TnT.evaluate(test_data), 3)))\n",
        " TnT_acc.append(round(TnT.evaluate(test_data),3))\n",
        " print(TnT.tag(['the', 'men', 'attended', 'to', 'the', 'meetings']))\n",
        "\n",
        "print(\"\\nTraining PER:-----------------------------\")\n",
        "for i in range(500,3001,500):\n",
        " train_data=(nltk.corpus.treebank.tagged_sents()[:i])\n",
        "\n",
        "#PER calculation\n",
        " PER = nltk.tag.perceptron.PerceptronTagger(load=False)\n",
        " PER.train(train_data) \n",
        " print('\\naccuracy for %d sentences: ' %i +str(round(PER.evaluate(test_data), 3)))\n",
        " PER_acc.append(round(PER.evaluate(test_data),3))\n",
        " print(PER.tag(['the', 'men', 'attended', 'to', 'the', 'meetings']))\n",
        "\n",
        "print(\"\\nTraining CRF:-----------------------------\")\n",
        "for i in range(500,3001,500):\n",
        " train_data=(nltk.corpus.treebank.tagged_sents()[:i])\n",
        "\n",
        "#CRF calculation\n",
        " CRF = nltk.tag.CRFTagger()\n",
        " \n",
        " CRF.train(train_data,'crf_tagger_model')\n",
        " print('\\naccuracy for %d sentences: ' %i +str(round(CRF.evaluate(test_data), 3)))\n",
        " CRF_acc.append(round(CRF.evaluate(test_data),3))\n",
        " print(CRF.tag(['the', 'men', 'attended', 'to', 'the', 'meetings']))\n",
        "\n"
      ],
      "execution_count": 7,
      "outputs": [
        {
          "output_type": "stream",
          "name": "stdout",
          "text": [
            "\n",
            "Training HMM:----------------------------\n",
            "\n",
            "accuracy for 500 sentences: 0.173\n",
            "[('the', 'DT'), ('men', 'NNP'), ('attended', 'NNP'), ('to', 'NNP'), ('the', 'NNP'), ('meetings', 'NNP')]\n",
            "\n",
            "accuracy for 1000 sentences: 0.221\n",
            "[('the', 'DT'), ('men', 'NNP'), ('attended', 'NNP'), ('to', 'NNP'), ('the', 'NNP'), ('meetings', 'NNP')]\n",
            "\n",
            "accuracy for 1500 sentences: 0.262\n",
            "[('the', 'DT'), ('men', 'NNS'), ('attended', 'NNP'), ('to', 'NNP'), ('the', 'NNP'), ('meetings', 'NNP')]\n",
            "\n",
            "accuracy for 2000 sentences: 0.304\n",
            "[('the', 'DT'), ('men', 'NNS'), ('attended', 'VBD'), ('to', 'TO'), ('the', 'DT'), ('meetings', 'NNS')]\n",
            "\n",
            "accuracy for 2500 sentences: 0.335\n",
            "[('the', 'DT'), ('men', 'NNS'), ('attended', 'VBD'), ('to', 'TO'), ('the', 'DT'), ('meetings', 'NNS')]\n",
            "\n",
            "accuracy for 3000 sentences: 0.369\n",
            "[('the', 'DT'), ('men', 'NNS'), ('attended', 'VBD'), ('to', 'TO'), ('the', 'DT'), ('meetings', 'NNS')]\n",
            "\n",
            "Training TnT:----------------------------\n",
            "\n",
            "accuracy for 500 sentences: 0.747\n",
            "[('the', 'DT'), ('men', 'NNS'), ('attended', 'Unk'), ('to', 'TO'), ('the', 'DT'), ('meetings', 'NNS')]\n",
            "\n",
            "accuracy for 1000 sentences: 0.796\n",
            "[('the', 'DT'), ('men', 'NNS'), ('attended', 'Unk'), ('to', 'TO'), ('the', 'DT'), ('meetings', 'NNS')]\n",
            "\n",
            "accuracy for 1500 sentences: 0.828\n",
            "[('the', 'DT'), ('men', 'NNS'), ('attended', 'Unk'), ('to', 'TO'), ('the', 'DT'), ('meetings', 'NNS')]\n",
            "\n",
            "accuracy for 2000 sentences: 0.849\n",
            "[('the', 'DT'), ('men', 'NNS'), ('attended', 'VBD'), ('to', 'TO'), ('the', 'DT'), ('meetings', 'NNS')]\n",
            "\n",
            "accuracy for 2500 sentences: 0.862\n",
            "[('the', 'DT'), ('men', 'NNS'), ('attended', 'VBD'), ('to', 'TO'), ('the', 'DT'), ('meetings', 'NNS')]\n",
            "\n",
            "accuracy for 3000 sentences: 0.876\n",
            "[('the', 'DT'), ('men', 'NNS'), ('attended', 'VBD'), ('to', 'TO'), ('the', 'DT'), ('meetings', 'NNS')]\n",
            "\n",
            "Training PER:-----------------------------\n",
            "\n",
            "accuracy for 500 sentences: 0.912\n",
            "[('the', 'DT'), ('men', 'NN'), ('attended', 'VBD'), ('to', 'TO'), ('the', 'DT'), ('meetings', 'NNS')]\n",
            "\n",
            "accuracy for 1000 sentences: 0.933\n",
            "[('the', 'DT'), ('men', 'NNS'), ('attended', 'VBD'), ('to', 'TO'), ('the', 'DT'), ('meetings', 'NNS')]\n",
            "\n",
            "accuracy for 1500 sentences: 0.94\n",
            "[('the', 'DT'), ('men', 'NNS'), ('attended', 'VBD'), ('to', 'TO'), ('the', 'DT'), ('meetings', 'NNS')]\n",
            "\n",
            "accuracy for 2000 sentences: 0.95\n",
            "[('the', 'DT'), ('men', 'NNS'), ('attended', 'VBD'), ('to', 'TO'), ('the', 'DT'), ('meetings', 'NNS')]\n",
            "\n",
            "accuracy for 2500 sentences: 0.955\n",
            "[('the', 'DT'), ('men', 'NNS'), ('attended', 'VBD'), ('to', 'TO'), ('the', 'DT'), ('meetings', 'NNS')]\n",
            "\n",
            "accuracy for 3000 sentences: 0.958\n",
            "[('the', 'DT'), ('men', 'NNS'), ('attended', 'VBD'), ('to', 'TO'), ('the', 'DT'), ('meetings', 'NNS')]\n",
            "\n",
            "Training CRF:-----------------------------\n",
            "\n",
            "accuracy for 500 sentences: 0.91\n",
            "[('the', 'DT'), ('men', 'NN'), ('attended', 'VBD'), ('to', 'TO'), ('the', 'DT'), ('meetings', 'NNS')]\n",
            "\n",
            "accuracy for 1000 sentences: 0.925\n",
            "[('the', 'DT'), ('men', 'NNS'), ('attended', 'VBD'), ('to', 'TO'), ('the', 'DT'), ('meetings', 'NNS')]\n",
            "\n",
            "accuracy for 1500 sentences: 0.933\n",
            "[('the', 'DT'), ('men', 'NNS'), ('attended', 'VBD'), ('to', 'TO'), ('the', 'DT'), ('meetings', 'NNS')]\n",
            "\n",
            "accuracy for 2000 sentences: 0.939\n",
            "[('the', 'DT'), ('men', 'NNS'), ('attended', 'VBD'), ('to', 'TO'), ('the', 'DT'), ('meetings', 'NNS')]\n",
            "\n",
            "accuracy for 2500 sentences: 0.943\n",
            "[('the', 'DT'), ('men', 'NNS'), ('attended', 'VBD'), ('to', 'TO'), ('the', 'DT'), ('meetings', 'NNS')]\n",
            "\n",
            "accuracy for 3000 sentences: 0.948\n",
            "[('the', 'DT'), ('men', 'NNS'), ('attended', 'VBD'), ('to', 'TO'), ('the', 'DT'), ('meetings', 'NNS')]\n"
          ]
        }
      ]
    },
    {
      "cell_type": "code",
      "metadata": {
        "id": "e5Gp_a8iLQ7J"
      },
      "source": [
        "import pandas as pd\n",
        "\n",
        "#Provide a figure with four learning curves, each per model type (X=training set size; Y=accuracy).\n",
        "x=[500,1000,1500,2000,2500,3000]\n",
        "hmm_tag = ['HMM' for i in x]\n",
        "tnt_tag = ['TnT' for i in x]\n",
        "per_tag = ['PER' for i in x]\n",
        "crf_tag = ['CRF' for i in x]\n",
        "data = {'train size': [*x, *x, *x, *x],\n",
        "        'accuracy': [*HMM_acc, *TnT_acc, *PER_acc, *CRF_acc],\n",
        "        'model': [*hmm_tag, *tnt_tag, *per_tag, *crf_tag]}\n",
        "df = pd.DataFrame(data)"
      ],
      "execution_count": 8,
      "outputs": []
    },
    {
      "cell_type": "code",
      "metadata": {
        "colab": {
          "base_uri": "https://localhost:8080/",
          "height": 350
        },
        "id": "0QERFkyONb5K",
        "outputId": "ef091d80-982b-43b0-d8ce-dfbb32920fbf"
      },
      "source": [
        "import matplotlib.pyplot as plt\n",
        "import seaborn as sns\n",
        "\n",
        "plt.figure(figsize=(10,5))\n",
        "sns.lineplot(data=df, x='train size', y='accuracy', hue='model')\n",
        "plt.title(\"Accuracy based on size\")\n",
        "plt.show()\n",
        "# Based on the below results Perceptron and CRF are the best for accuracy, \n",
        "# But I would choose the Perceptron Model because if we keep increasing the number of sentences\n",
        "# it is observed from the graph that the Perceptron performs better than CRF by a few points."
      ],
      "execution_count": 13,
      "outputs": [
        {
          "output_type": "display_data",
          "data": {
            "image/png": "[encoded data removed]",
            "text/plain": [
              "<Figure size 720x360 with 1 Axes>"
            ]
          },
          "metadata": {
            "needs_background": "light"
          }
        }
      ]
    },
    {
      "cell_type": "code",
      "metadata": {
        "id": "vVauMK3ZLSs1"
      },
      "source": [
        ""
      ],
      "execution_count": null,
      "outputs": []
    }
  ]
}